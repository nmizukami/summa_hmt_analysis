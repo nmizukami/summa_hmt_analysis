{
 "cells": [
  {
   "cell_type": "markdown",
   "metadata": {},
   "source": [
    "# Post-process mizuRoute daily site selected history files\n"
   ]
  },
  {
   "cell_type": "code",
   "execution_count": 1,
   "metadata": {},
   "outputs": [
    {
     "name": "stdout",
     "output_type": "stream",
     "text": [
      "\n",
      "The Python version: 3.10.12\n",
      "xarray 2023.6.0\n"
     ]
    }
   ],
   "source": [
    "%matplotlib inline\n",
    "\n",
    "import os, sys\n",
    "import xarray as xr\n",
    "import pandas as pd\n",
    "import numpy as np\n",
    "\n",
    "print(\"\\nThe Python version: %s.%s.%s\" % sys.version_info[:3])\n",
    "print(xr.__name__, xr.__version__)"
   ]
  },
  {
   "cell_type": "markdown",
   "metadata": {},
   "source": [
    "## 1. Directories"
   ]
  },
  {
   "cell_type": "code",
   "execution_count": 2,
   "metadata": {},
   "outputs": [],
   "source": [
    "main_path = './'\n",
    "ancillary_path = os.path.join(main_path, 'ancillary_data')\n",
    "output_path = os.path.join(main_path, 'data', 'summa_mizuRoute')\n",
    "mizuRoute_path  = '/glade/u/home/mizukami/proj/pnw-extrems/models/PNW_GCM'"
   ]
  },
  {
   "cell_type": "markdown",
   "metadata": {},
   "source": [
    "## 2. Setups"
   ]
  },
  {
   "cell_type": "code",
   "execution_count": 7,
   "metadata": {},
   "outputs": [],
   "source": [
    "sim_cases = {\n",
    "        #       'gmet_adjusted_t_fixed_4subregion_3_run43':  {'renaming':'gmet', }, \n",
    "               'icar_CanESM5_hist':       {'renaming':'icar_CanESM5_hist',}, \n",
    "               'icar_CanESM5_ssp370':     {'renaming':'icar_CanESM5_ssp370',},\n",
    "               'icar_NorESM2-MM_ssp370':  {'renaming':'icar_NorESM2-MM_ssp370',},\n",
    "               'icar_NorESM2-MM_ssp585':  {'renaming':'icar_NorESM2-MM_ssp585',},\n",
    "               'icar_NorESM2-MM_hist':    {'renaming':'icar_NorESM2-MM_hist',},\n",
    "               'icar_MPI-M.MPI-ESM1-2-LR_hist':    {'renaming':'icar_MPI-ESM1-2-LR_hist',},\n",
    "               'icar_MPI-M.MPI-ESM1-2-LR_ssp370':    {'renaming':'icar_MPI-ESM1-2-LR_ssp370',},\n",
    "            }\n",
    "\n",
    "sites = ['LIB']\n",
    "\n",
    "english_unit=True"
   ]
  },
  {
   "cell_type": "code",
   "execution_count": 8,
   "metadata": {},
   "outputs": [],
   "source": [
    "cms2cfs=35.3147"
   ]
  },
  {
   "cell_type": "markdown",
   "metadata": {},
   "source": [
    "## 3. Read ancillary data, e.g.,  flow sites geopackages, ascii"
   ]
  },
  {
   "cell_type": "markdown",
   "metadata": {},
   "source": [
    "### Flow site name to be plotted"
   ]
  },
  {
   "cell_type": "code",
   "execution_count": 9,
   "metadata": {},
   "outputs": [
    {
     "data": {
      "text/html": [
       "<div>\n",
       "<style scoped>\n",
       "    .dataframe tbody tr th:only-of-type {\n",
       "        vertical-align: middle;\n",
       "    }\n",
       "\n",
       "    .dataframe tbody tr th {\n",
       "        vertical-align: top;\n",
       "    }\n",
       "\n",
       "    .dataframe thead th {\n",
       "        text-align: right;\n",
       "    }\n",
       "</style>\n",
       "<table border=\"1\" class=\"dataframe\">\n",
       "  <thead>\n",
       "    <tr style=\"text-align: right;\">\n",
       "      <th></th>\n",
       "      <th>reachID</th>\n",
       "      <th>hruId</th>\n",
       "      <th>label</th>\n",
       "    </tr>\n",
       "  </thead>\n",
       "  <tbody>\n",
       "    <tr>\n",
       "      <th>28</th>\n",
       "      <td>78013865</td>\n",
       "      <td>170101011208</td>\n",
       "      <td>LIB</td>\n",
       "    </tr>\n",
       "  </tbody>\n",
       "</table>\n",
       "</div>"
      ],
      "text/plain": [
       "     reachID         hruId label\n",
       "28  78013865  170101011208   LIB"
      ]
     },
     "execution_count": 9,
     "metadata": {},
     "output_type": "execute_result"
    }
   ],
   "source": [
    "site_name = pd.read_csv(os.path.join(ancillary_path, 'meta_data.pnnl_sites.v3.txt'), delim_whitespace=True)\n",
    "if bool(sites):\n",
    "    site_name = site_name[site_name['label'].isin(sites)] #\n",
    "site_name"
   ]
  },
  {
   "cell_type": "markdown",
   "metadata": {},
   "source": [
    "----\n",
    "## 4. Read simulated flow time series"
   ]
  },
  {
   "cell_type": "code",
   "execution_count": 10,
   "metadata": {
    "tags": []
   },
   "outputs": [
    {
     "name": "stdout",
     "output_type": "stream",
     "text": [
      "---- Read validation period simulated flow ----\n",
      "icar_MPI-M.MPI-ESM1-2-LR_ssp370\n",
      "CPU times: user 257 ms, sys: 367 ms, total: 624 ms\n",
      "Wall time: 3.16 s\n"
     ]
    }
   ],
   "source": [
    "%%time\n",
    "print('---- Read validation period simulated flow ----')\n",
    "\n",
    "site_array = np.full(len(site_name), 'nan', dtype=object)\n",
    "\n",
    "for case, meta in sim_cases.items():\n",
    "    nclist = os.path.join(mizuRoute_path, 'cases', f\"run_{case}/archived/run_{case}.h.*_selected.nc\")\n",
    "    ds_tmp = xr.open_mfdataset(nclist, data_vars='minimal').compute()\n",
    "    \n",
    "    #select reach matching site list\n",
    "    ds_tmp = ds_tmp.where(ds_tmp['reachID'].isin(list(site_name['reachID'])), drop=True)\n",
    "\n",
    "    # compute daily mean\n",
    "    ds_tmp = ds_tmp.resample(time='1D').mean()\n",
    "    ds_tmp['reachID'] = ds_tmp['reachID'].isel(time=0, drop=True)\n",
    "    \n",
    "    # get site name\n",
    "    for ix, reach_id in enumerate(ds_tmp['reachID'].values):\n",
    "        site = site_name.loc[site_name['reachID']==reach_id, 'label'].values[0]\n",
    "        site_array[ix] = site\n",
    "    ds_tmp['site'] = xr.DataArray(site_array, dims=('seg'))\n",
    "    \n",
    "    # house keeping...\n",
    "    ds_tmp = ds_tmp.rename({'IRFroutedRunoff':'streamflow'})\n",
    "    ds_tmp['reachID'] = ds_tmp['reachID'].astype('int32')\n",
    "    \n",
    "    if english_unit:\n",
    "        ds_tmp['streamflow'] = ds_tmp['streamflow']*cms2cfs\n",
    "        ds_tmp['streamflow'].attrs['units'] = 'cfs'\n",
    "\n",
    "    ds_tmp.to_netcdf(os.path.join(output_path, f\"{meta['renaming']}.nc\"))\n",
    "    print('%s'%case)"
   ]
  }
 ],
 "metadata": {
  "kernelspec": {
   "display_name": "NPL 2023b",
   "language": "python",
   "name": "npl-2023b"
  },
  "language_info": {
   "codemirror_mode": {
    "name": "ipython",
    "version": 3
   },
   "file_extension": ".py",
   "mimetype": "text/x-python",
   "name": "python",
   "nbconvert_exporter": "python",
   "pygments_lexer": "ipython3",
   "version": "3.10.12"
  }
 },
 "nbformat": 4,
 "nbformat_minor": 4
}
