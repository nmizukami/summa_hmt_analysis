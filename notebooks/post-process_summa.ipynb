{
 "cells": [
  {
   "cell_type": "markdown",
   "metadata": {},
   "source": [
    "# Post-process SUMMA daily outputs\n",
    "- subset to a particular basin\n",
    "- extract particular variables"
   ]
  },
  {
   "cell_type": "code",
   "execution_count": 1,
   "metadata": {},
   "outputs": [
    {
     "name": "stdout",
     "output_type": "stream",
     "text": [
      "\n",
      "The Python version: 3.10.12\n"
     ]
    }
   ],
   "source": [
    "%matplotlib inline\n",
    "\n",
    "import os, sys\n",
    "import glob\n",
    "import xarray as xr\n",
    "import pandas as pd\n",
    "import numpy as np\n",
    "\n",
    "import scripts.utility as util\n",
    "\n",
    "print(\"\\nThe Python version: %s.%s.%s\" % sys.version_info[:3])"
   ]
  },
  {
   "cell_type": "markdown",
   "metadata": {},
   "source": [
    "## 1. settings"
   ]
  },
  {
   "cell_type": "code",
   "execution_count": 2,
   "metadata": {},
   "outputs": [],
   "source": [
    "main_path = './'\n",
    "ancillary_path = os.path.join(main_path, 'ancillary_data')\n",
    "output_path = os.path.join(main_path, 'data', 'summa_mizuRoute')\n",
    "summa_path  = '/glade/u/home/mizukami/proj/pnw-extrems/models/PNW_GCM'"
   ]
  },
  {
   "cell_type": "code",
   "execution_count": 3,
   "metadata": {},
   "outputs": [],
   "source": [
    "sim_cases = {\n",
    "               'gmet_adjusted_t_fixed_4subregion_3_run43':  {'renaming':'gmet', }, \n",
    "#               'icar_CanESM5_hist':                {'renaming':'icar_CanESM5_hist',}, \n",
    "#               'icar_CanESM5_ssp370':              {'renaming':'icar_CanESM5_ssp370',},\n",
    "               'icar_NorESM2-MM_ssp370':           {'renaming':'icar_NorESM2-MM_ssp370',},\n",
    "               'icar_NorESM2-MM_ssp585':           {'renaming':'icar_NorESM2-MM_ssp585',},\n",
    "              'icar_NorESM2-MM_hist':             {'renaming':'icar_NorESM2-MM_hist',},\n",
    "               'icar_MPI-M.MPI-ESM1-2-LR_hist':    {'renaming':'icar_MPI-ESM1-2-LR_hist',},\n",
    "               'icar_MPI-M.MPI-ESM1-2-LR_ssp370':  {'renaming':'icar_MPI-ESM1-2-LR_ssp370',},\n",
    "            }\n",
    "\n",
    "sites = ['LIB']\n",
    "\n",
    "# including variables\n",
    "variables = {'pptrate_mean':          {'scale':60*60*24,      },\n",
    "             'airtemp_mean':          {'scale':1,             },\n",
    "             'scalarTotalRunoff_mean':{'scale':1000*60*60*24, },\n",
    "             'scalarTotalET_mean':    {'scale':-60*60*24,     },\n",
    "             'scalarSWE':             {'scale':1,             },\n",
    "             'hruId':                 {'scale':1,             }\n",
    "            } \n",
    "\n",
    "var_attrs = {'pptrate_mean':            {'units':'mm/day', 'long_name':'precipitation rate (mean)'},\n",
    "                'airtemp_mean':            {'units':'K',      'long_name':'air temperature at the measurement height (mean)'},\n",
    "                 'scalarTotalRunoff_mean': {'units':'mm/day', 'long_name':'total runoff (mean)'},\n",
    "                 'scalarTotalET_mean':     {'units':'mm/day', 'long_name':'total ET (mean)'},\n",
    "                 'scalarSWE':              {'units':'mm',     'long_name':'snow water equivalent'},\n",
    "                 'hruId':                  {'units':'-',      'long_name':'ID defining the hydrologic response unit'},\n",
    "             \n",
    "            } \n",
    "\n",
    "var_encoding = {'pptrate_mean':           {'dtype':'float32', '_FillValue': -9999},\n",
    "                'airtemp_mean':           {'dtype':'float32', '_FillValue': -9999},\n",
    "                 'scalarTotalRunoff_mean': {'dtype':'float32', '_FillValue': -9999},\n",
    "                 'scalarTotalET_mean':    {'dtype':'float32', '_FillValue': -9999},\n",
    "                 'scalarSWE':             {'dtype':'float32', '_FillValue': -9999},\n",
    "                 'hruId':                 {'dtype':'int64', '_FillValue': -9999},\n",
    "                 'time':                  {'dtype':'int64', 'units':'seconds since 1990-1-1 0:0:0.0', '_FillValue': None},\n",
    "            } "
   ]
  },
  {
   "cell_type": "markdown",
   "metadata": {},
   "source": [
    "## Read summa outputs\n",
    "\n",
    "Read summa daily output, Read HUC12 IDs and extract SUMMA outputs for a basin into ds_summa[sim_case][scenario]"
   ]
  },
  {
   "cell_type": "code",
   "execution_count": 4,
   "metadata": {},
   "outputs": [],
   "source": [
    "hruids={}\n",
    "for site in sites:\n",
    "    hruids[site] = util.read_text(os.path.join(ancillary_path, f'hucIds.{site}.txt'))"
   ]
  },
  {
   "cell_type": "code",
   "execution_count": 5,
   "metadata": {},
   "outputs": [
    {
     "name": "stdout",
     "output_type": "stream",
     "text": [
      "gmet_adjusted_t_fixed_4subregion_3_run43-LIB\n",
      "icar_NorESM2-MM_ssp370-LIB\n",
      "icar_NorESM2-MM_ssp585-LIB\n",
      "icar_NorESM2-MM_hist-LIB\n",
      "icar_MPI-M.MPI-ESM1-2-LR_hist-LIB\n",
      "icar_MPI-M.MPI-ESM1-2-LR_ssp370-LIB\n",
      "CPU times: user 55.1 s, sys: 2min 54s, total: 3min 49s\n",
      "Wall time: 23min 6s\n"
     ]
    }
   ],
   "source": [
    "%%time\n",
    "\n",
    "def preprocess(ds):\n",
    "    ds = ds[[*variables]]\n",
    "    for var, meta in variables.items():\n",
    "        ds[var] = ds[var]*meta['scale']\n",
    "    return ds\n",
    "    \n",
    "# get GCM sim\n",
    "for case, meta in sim_cases.items():\n",
    "    nclist=glob.glob(os.path.join(summa_path, f'cases/run_{case}/archived/wbout_day_????_????.nc'))\n",
    "    ds_tmp = xr.open_mfdataset(nclist, data_vars='minimal', parallel=True, preprocess=preprocess).compute()\n",
    "    ds_tmp['time'] = ds_tmp['time'].dt.round(\"H\")\n",
    "\n",
    "    for site in sites:\n",
    "        ds_summa = ds_tmp.where(ds_tmp['hruId'].isin(hruids[site]),drop=True)\n",
    "    \n",
    "        for var in ds_summa.variables:\n",
    "            if var in var_attrs.keys():\n",
    "                ds_summa[var].attrs = var_attrs[var]\n",
    "        for var in ds_summa.variables:\n",
    "            if var in var_encoding.keys():\n",
    "                ds_summa[var].encoding = var_encoding[var]\n",
    "        \n",
    "        ds_summa.to_netcdf(os.path.join(output_path, f\"SUMMA_{meta['renaming']}_{site}.nc\"))\n",
    "\n",
    "        print(f'{case}-{site}')"
   ]
  },
  {
   "cell_type": "code",
   "execution_count": null,
   "metadata": {},
   "outputs": [],
   "source": []
  }
 ],
 "metadata": {
  "kernelspec": {
   "display_name": "NPL 2023b",
   "language": "python",
   "name": "npl-2023b"
  },
  "language_info": {
   "codemirror_mode": {
    "name": "ipython",
    "version": 3
   },
   "file_extension": ".py",
   "mimetype": "text/x-python",
   "name": "python",
   "nbconvert_exporter": "python",
   "pygments_lexer": "ipython3",
   "version": "3.10.12"
  }
 },
 "nbformat": 4,
 "nbformat_minor": 4
}
